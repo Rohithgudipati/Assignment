{
  "nbformat": 4,
  "nbformat_minor": 0,
  "metadata": {
    "colab": {
      "provenance": [],
      "authorship_tag": "ABX9TyOWNADU26xJWW4Cah80ZezZ",
      "include_colab_link": true
    },
    "kernelspec": {
      "name": "python3",
      "display_name": "Python 3"
    },
    "language_info": {
      "name": "python"
    }
  },
  "cells": [
    {
      "cell_type": "markdown",
      "metadata": {
        "id": "view-in-github",
        "colab_type": "text"
      },
      "source": [
        "<a href=\"https://colab.research.google.com/github/Rohithgudipati/Assignment/blob/master/PHN_Task_01.ipynb\" target=\"_parent\"><img src=\"https://colab.research.google.com/assets/colab-badge.svg\" alt=\"Open In Colab\"/></a>"
      ]
    },
    {
      "cell_type": "code",
      "execution_count": 2,
      "metadata": {
        "colab": {
          "base_uri": "https://localhost:8080/"
        },
        "id": "TmEmYe2p33H-",
        "outputId": "1f6a7424-9b57-4eee-8a59-aa3f490ca767"
      },
      "outputs": [
        {
          "output_type": "stream",
          "name": "stdout",
          "text": [
            "Merged Data Frame after adding GST value:\n",
            "  Company Name  Model Name Fuel Type  Body Style  Car length  On road pricing  \\\n",
            "0        Honda       Civic    Petrol        Sedan     4649mm          2478000   \n",
            "1       Toyota     Corolla    Hybrid        Sedan     4620mm          2773000   \n",
            "2         Ford       F-150       Gas       Pickup     5890mm          6136000   \n",
            "3        Tesla     Model S        EV        Sedan     4978mm         17700000   \n",
            "4        Mazda  MX-5 Miata    Petrol  Convertible     3915mm          4130000   \n",
            "\n",
            "   Loan amount  Monthly EMI  Interest Rate  Monthly Principal  \\\n",
            "0      1890000        31337           0.08              15686   \n",
            "1      2115000        35191           0.08              17595   \n",
            "2      4680000        77946           0.09              38973   \n",
            "3     13500000       224474           0.07             111272   \n",
            "4      3150000        52456           0.09              26228   \n",
            "\n",
            "   Monthly Interest  \n",
            "0             15651  \n",
            "1             17596  \n",
            "2             38973  \n",
            "3            113202  \n",
            "4             26228  \n"
          ]
        }
      ],
      "source": [
        "import pandas as pd\n",
        "\n",
        "# Read the car model and specification data from CSV file \n",
        "car_spec_df = pd.read_csv(\"/content/sample_data/PHN_Task_01/Sample Data_1.csv\")\n",
        "\n",
        "# Read the car pricing and loan data from Excel file\n",
        "car_loan_df = pd.read_excel(\"/content/sample_data/PHN_Task_01/Sample_Data_2.xlsx\")\n",
        "\n",
        "# Merge the two data frames on the basis of Company Name and Model Name\n",
        "merged_df = pd.merge(car_spec_df, car_loan_df, on=['Company Name', 'Model Name'])\n",
        "\n",
        "# Fill the NA values with 0\n",
        "merged_df.fillna(0, inplace=True)\n",
        "\n",
        "# Iterate over the merged data frame and add the GST value in the \"On road pricing\" column\n",
        "for index, row in merged_df.iterrows():\n",
        "    on_road_pricing = row['On road pricing']\n",
        "    gst_value = on_road_pricing * 0.18\n",
        "    merged_df.at[index, 'On road pricing'] = on_road_pricing + gst_value\n",
        "\n",
        "# Print the merged data frame after adding GST value\n",
        "print(\"Merged Data Frame after adding GST value:\")\n",
        "print(merged_df.head())"
      ]
    }
  ]
}